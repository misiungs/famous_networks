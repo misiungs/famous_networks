{
 "cells": [
  {
   "cell_type": "markdown",
   "metadata": {},
   "source": [
    "In this notebook AlexNet (Krizhevsky et al. 'ImageNet Classification with Deep Convolutional Neural Networks') is recreated but for the sake of disk space and computational time it is runned on Horse or Horse dataset. AlexNet consists of 5 convulation layers and 2 dense layers with 3 max pooling layers in between. For network building we use keras.  \n",
    "### Import libraries"
   ]
  },
  {
   "cell_type": "code",
   "execution_count": 1,
   "metadata": {},
   "outputs": [],
   "source": [
    "import time\n",
    "import numpy as np\n",
    "import matplotlib.pyplot as plt\n",
    "import tensorflow_datasets as tfds\n",
    "import tensorflow as tf\n",
    "# to display training progress & keep output clean\n",
    "from IPython.display import clear_output"
   ]
  },
  {
   "cell_type": "markdown",
   "metadata": {},
   "source": [
    "### Load dataset\n",
    "Load the data set and define basic data set preprocessing and sampling options.\n",
    "Uncomment the code below to download ~155GB of data."
   ]
  },
  {
   "cell_type": "code",
   "execution_count": 2,
   "metadata": {},
   "outputs": [],
   "source": [
    "dataset_name = 'horses_or_humans'\n",
    "batch_size = 128\n",
    "learning_rate = 0.0001\n",
    "\n",
    "@tf.function\n",
    "def transform_inp(image, label):\n",
    "  image = tf.image.resize_with_crop_or_pad(image, 227, 227)\n",
    "  #image = crop_center(image)\n",
    "  return tf.cast(image, tf.float32)/255., tf.cast(label, tf.float32)\n",
    "\n",
    "\n",
    "train_ds = tfds.load(name=dataset_name, split='train', as_supervised=True)\n",
    "valid_ds = tfds.load(name=dataset_name, split='test', as_supervised=True)          \n",
    "\n",
    "# prepare data set\n",
    "train_ds = train_ds.map(transform_inp).shuffle(1024).batch(batch_size)\n",
    "valid_ds = valid_ds.map(transform_inp).shuffle(1024).batch(batch_size)"
   ]
  },
  {
   "cell_type": "markdown",
   "metadata": {},
   "source": [
    "### Model\n",
    "We define our model following AlexNet architecture."
   ]
  },
  {
   "cell_type": "code",
   "execution_count": 3,
   "metadata": {},
   "outputs": [],
   "source": [
    "model = tf.keras.models.Sequential([\n",
    "    tf.keras.layers.Conv2D(filters=96, kernel_size=(11,11), strides=(4,4), activation='relu', input_shape=(227,227,3)),\n",
    "    tf.keras.layers.MaxPool2D(pool_size=(3,3), strides=(2,2)),\n",
    "    tf.keras.layers.Conv2D(filters=256, kernel_size=(5,5), strides=(1,1), activation='relu', padding=\"same\"),\n",
    "    tf.keras.layers.MaxPool2D(pool_size=(3,3), strides=(2,2)),\n",
    "    tf.keras.layers.Conv2D(filters=384, kernel_size=(3,3), strides=(1,1), activation='relu', padding=\"same\"),\n",
    "    tf.keras.layers.Conv2D(filters=384, kernel_size=(1,1), strides=(1,1), activation='relu', padding=\"same\"),\n",
    "    tf.keras.layers.Conv2D(filters=256, kernel_size=(1,1), strides=(1,1), activation='relu', padding=\"same\"),\n",
    "    tf.keras.layers.MaxPool2D(pool_size=(3,3), strides=(2,2)),\n",
    "    tf.keras.layers.Flatten(),\n",
    "    tf.keras.layers.Dense(4096, activation='relu'),\n",
    "    tf.keras.layers.Dropout(0.5),\n",
    "    tf.keras.layers.Dense(4096, activation='relu'),\n",
    "    tf.keras.layers.Dropout(0.5),\n",
    "    tf.keras.layers.Dense(1, activation='sigmoid')\n",
    "])"
   ]
  },
  {
   "cell_type": "markdown",
   "metadata": {},
   "source": [
    "Let's check the model summary."
   ]
  },
  {
   "cell_type": "code",
   "execution_count": 4,
   "metadata": {},
   "outputs": [
    {
     "name": "stdout",
     "output_type": "stream",
     "text": [
      "Model: \"sequential\"\n",
      "_________________________________________________________________\n",
      "Layer (type)                 Output Shape              Param #   \n",
      "=================================================================\n",
      "conv2d (Conv2D)              (None, 55, 55, 96)        34944     \n",
      "_________________________________________________________________\n",
      "max_pooling2d (MaxPooling2D) (None, 27, 27, 96)        0         \n",
      "_________________________________________________________________\n",
      "conv2d_1 (Conv2D)            (None, 27, 27, 256)       614656    \n",
      "_________________________________________________________________\n",
      "max_pooling2d_1 (MaxPooling2 (None, 13, 13, 256)       0         \n",
      "_________________________________________________________________\n",
      "conv2d_2 (Conv2D)            (None, 13, 13, 384)       885120    \n",
      "_________________________________________________________________\n",
      "conv2d_3 (Conv2D)            (None, 13, 13, 384)       147840    \n",
      "_________________________________________________________________\n",
      "conv2d_4 (Conv2D)            (None, 13, 13, 256)       98560     \n",
      "_________________________________________________________________\n",
      "max_pooling2d_2 (MaxPooling2 (None, 6, 6, 256)         0         \n",
      "_________________________________________________________________\n",
      "flatten (Flatten)            (None, 9216)              0         \n",
      "_________________________________________________________________\n",
      "dense (Dense)                (None, 4096)              37752832  \n",
      "_________________________________________________________________\n",
      "dropout (Dropout)            (None, 4096)              0         \n",
      "_________________________________________________________________\n",
      "dense_1 (Dense)              (None, 4096)              16781312  \n",
      "_________________________________________________________________\n",
      "dropout_1 (Dropout)          (None, 4096)              0         \n",
      "_________________________________________________________________\n",
      "dense_2 (Dense)              (None, 1)                 4097      \n",
      "=================================================================\n",
      "Total params: 56,319,361\n",
      "Trainable params: 56,319,361\n",
      "Non-trainable params: 0\n",
      "_________________________________________________________________\n"
     ]
    }
   ],
   "source": [
    "model.summary()"
   ]
  },
  {
   "cell_type": "markdown",
   "metadata": {},
   "source": [
    "### Defining the loss function and compiling the model\n",
    "\n",
    "Here we define our optimizer, loss function, and necessary metrics."
   ]
  },
  {
   "cell_type": "code",
   "execution_count": 5,
   "metadata": {},
   "outputs": [],
   "source": [
    "model.compile(loss='binary_crossentropy',\n",
    "              optimizer=tf.keras.optimizers.RMSprop(lr=0.0001),\n",
    "              metrics=['accuracy'])"
   ]
  },
  {
   "cell_type": "markdown",
   "metadata": {},
   "source": [
    "### Plotting function\n",
    "We define plotting function to investigate training of our model"
   ]
  },
  {
   "cell_type": "code",
   "execution_count": 6,
   "metadata": {},
   "outputs": [],
   "source": [
    "def plot_conv(hist):                     \n",
    "    history_dict = hist.history\n",
    "    train_acc = history_dict['accuracy']\n",
    "    val_acc = history_dict['val_accuracy']\n",
    "    train_loss = history_dict['loss']\n",
    "    val_loss = history_dict['val_loss']\n",
    "    \n",
    "    fig, axs = plt.subplots(1,2, figsize=(15,5))\n",
    "    epochs = range(1, len(train_acc) + 1)\n",
    "    axs[0].plot(epochs, val_loss, 'b', label='Validation loss')\n",
    "    axs[0].plot(epochs, train_loss, c='orange', label='Training loss')\n",
    "    axs[0].set_title('Training and validation loss')\n",
    "    axs[0].set_xlabel('Epochs')\n",
    "    axs[0].set_ylabel('Loss')\n",
    "    #axs[0].set_xscale('log')\n",
    "    axs[0].legend()\n",
    "    \n",
    "    axs[1].plot(epochs, val_acc, 'b', label='Validation accuracy')\n",
    "    axs[1].plot(epochs, train_acc, c='orange', label='Training accuracy')\n",
    "    axs[1].set_title('Training and validation accuracy')\n",
    "    axs[1].set_xlabel('Epochs')\n",
    "    axs[1].set_ylabel('Accuracy')\n",
    "    #axs[1].set_xscale('log')\n",
    "    axs[1].legend()\n",
    "    plt.tight_layout()\n",
    "\n",
    "    print(\"Final statistics\")\n",
    "    print(\"Training\")\n",
    "    print(\"Loss: {:.3f}  Accuracy: {:.3f}\".format(train_loss[-1], train_acc[-1]))\n",
    "    print(\"Validation\")\n",
    "    print(\"Loss: {:.3f}  Accuracy: {:.3f}\".format(val_loss[-1], val_acc[-1]))"
   ]
  },
  {
   "cell_type": "markdown",
   "metadata": {},
   "source": [
    "### Training\n",
    "\n",
    "We train our model for 10 epochs to see how it performs."
   ]
  },
  {
   "cell_type": "code",
   "execution_count": 7,
   "metadata": {
    "scrolled": false
   },
   "outputs": [
    {
     "name": "stdout",
     "output_type": "stream",
     "text": [
      "Epoch 1/10\n",
      "9/9 [==============================] - 97s 10s/step - loss: 0.6978 - accuracy: 0.5336 - val_loss: 0.6469 - val_accuracy: 0.5195\n",
      "Epoch 2/10\n",
      "9/9 [==============================] - 97s 11s/step - loss: 0.5991 - accuracy: 0.6384 - val_loss: 1.1469 - val_accuracy: 0.6016\n",
      "Epoch 3/10\n",
      "9/9 [==============================] - 104s 11s/step - loss: 0.4595 - accuracy: 0.7878 - val_loss: 0.3821 - val_accuracy: 0.8906\n",
      "Epoch 4/10\n",
      "9/9 [==============================] - 96s 11s/step - loss: 0.3127 - accuracy: 0.8669 - val_loss: 0.5415 - val_accuracy: 0.8828\n",
      "Epoch 5/10\n",
      "9/9 [==============================] - 94s 10s/step - loss: 0.1557 - accuracy: 0.9376 - val_loss: 0.5509 - val_accuracy: 0.8828\n",
      "Epoch 6/10\n",
      "9/9 [==============================] - 97s 11s/step - loss: 0.1199 - accuracy: 0.9564 - val_loss: 0.4757 - val_accuracy: 0.8945\n",
      "Epoch 7/10\n",
      "9/9 [==============================] - 98s 11s/step - loss: 0.2303 - accuracy: 0.9137 - val_loss: 0.7753 - val_accuracy: 0.8711\n",
      "Epoch 8/10\n",
      "9/9 [==============================] - 97s 11s/step - loss: 0.0918 - accuracy: 0.9693 - val_loss: 0.6721 - val_accuracy: 0.8906\n",
      "Epoch 9/10\n",
      "9/9 [==============================] - 97s 11s/step - loss: 0.1067 - accuracy: 0.9588 - val_loss: 0.4786 - val_accuracy: 0.8750\n",
      "Epoch 10/10\n",
      "9/9 [==============================] - 100s 11s/step - loss: 0.1863 - accuracy: 0.9373 - val_loss: 0.3270 - val_accuracy: 0.9062\n",
      "Final statistics\n",
      "Training\n",
      "Loss: 0.220  Accuracy: 0.910\n",
      "Validation\n",
      "Loss: 0.327  Accuracy: 0.906\n"
     ]
    },
    {
     "data": {
      "image/png": "[encoded data removed]",
      "text/plain": [
       "<Figure size 1080x360 with 2 Axes>"
      ]
     },
     "metadata": {
      "needs_background": "light"
     },
     "output_type": "display_data"
    }
   ],
   "source": [
    "base_hist = model.fit(\n",
    "    train_ds,\n",
    "    epochs=10,\n",
    "    validation_data=valid_ds, \n",
    "    verbose = 1\n",
    ")\n",
    "\n",
    "plot_conv(base_hist)"
   ]
  },
  {
   "cell_type": "markdown",
   "metadata": {},
   "source": [
    "In 10 epochs accuracy of over 90% was achived. With better hyperparameters tunning the accuracy could be definetly boosted."
   ]
  }
 ],
 "metadata": {
  "kernelspec": {
   "display_name": "Python 3",
   "language": "python",
   "name": "python3"
  },
  "language_info": {
   "codemirror_mode": {
    "name": "ipython",
    "version": 3
   },
   "file_extension": ".py",
   "mimetype": "text/x-python",
   "name": "python",
   "nbconvert_exporter": "python",
   "pygments_lexer": "ipython3",
   "version": "3.8.5"
  }
 },
 "nbformat": 4,
 "nbformat_minor": 4
}
