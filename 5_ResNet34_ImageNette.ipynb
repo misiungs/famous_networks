{
 "cells": [
  {
   "cell_type": "markdown",
   "metadata": {
    "id": "4kjoSl96OpP4"
   },
   "source": [
    "In this notebook ResNet34 (Kaiming H., et. al. “Deep Residual Learning for Image Recognition”) is recreated but for the sake of disk space and computational time it is run on ImageNette data set. ResNet addresses vanishing gradient problem by using residual layers (i.e. layers with a shortcut connection). ResNet consists of sequence of residual layers with two fully connected layers. It has only two pooling layers: one max-pool at the start and avg-pool before the fully connected layers. We slightly modify the architecture and intentionally add dropout after the first dense layer to prevent overfit for a much smaller data set than the original ImageNet. Architecture is recreated using a high-level keras API, with inheritance of tf.keras.layers.Layer and tf.keras.Model. \n",
    "### Import libraries"
   ]
  },
  {
   "cell_type": "code",
   "execution_count": 1,
   "metadata": {
    "colab": {
     "base_uri": "https://localhost:8080/",
     "height": 35
    },
    "id": "HLPDyRDjOpQB",
    "outputId": "57358b0f-2fae-4ef9-bdbe-b2b4d0090a54"
   },
   "outputs": [
    {
     "data": {
      "application/vnd.google.colaboratory.intrinsic+json": {
       "type": "string"
      },
      "text/plain": [
       "'/device:GPU:0'"
      ]
     },
     "execution_count": 1,
     "metadata": {
      "tags": []
     },
     "output_type": "execute_result"
    }
   ],
   "source": [
    "import tensorflow as tf \n",
    "\n",
    "tf.test.gpu_device_name()"
   ]
  },
  {
   "cell_type": "code",
   "execution_count": 2,
   "metadata": {
    "id": "0xC0PHJpOpQD"
   },
   "outputs": [],
   "source": [
    "import time\n",
    "import numpy as np\n",
    "import matplotlib.pyplot as plt\n",
    "import tensorflow_datasets as tfds"
   ]
  },
  {
   "cell_type": "markdown",
   "metadata": {
    "id": "YBhij1DlOpQD"
   },
   "source": [
    "### Load dataset\n",
    "Load the data set and define basic data set preprocessing and sampling options."
   ]
  },
  {
   "cell_type": "code",
   "execution_count": 3,
   "metadata": {
    "id": "bk2ifE6pOpQE"
   },
   "outputs": [],
   "source": [
    "dataset_name = 'imagenette/320px-v2'\n",
    "batch_size = 128\n",
    "\n",
    "@tf.function\n",
    "def transform_inp(image, label):\n",
    "  image = tf.image.resize_with_crop_or_pad(image, 224, 224)\n",
    "  return tf.cast(image, tf.float32)/255., tf.one_hot(label, depth=10)\n",
    "\n",
    "@tf.function\n",
    "def transform_aug_inp(image, label):\n",
    "  image = tf.image.random_crop(image, size=[224, 224, 3])\n",
    "  image = tf.image.random_flip_left_right(image)\n",
    "  image = tf.image.random_contrast(image, lower=0.0, upper=1.0)\n",
    "  return tf.cast(image, tf.float32)/255., tf.one_hot(label, depth=10)\n",
    "\n",
    "train_ds = tfds.load(dataset_name, split='train', as_supervised=True)\n",
    "valid_ds = tfds.load(dataset_name, split='validation', as_supervised=True)\n",
    "\n",
    "train_ds = train_ds.map(transform_aug_inp).shuffle(1024).batch(batch_size)\n",
    "valid_ds = valid_ds.map(transform_inp).shuffle(1024).batch(batch_size)"
   ]
  },
  {
   "cell_type": "markdown",
   "metadata": {
    "id": "wxP1jEiQOpQE"
   },
   "source": [
    "### Model\n",
    "We define our model following ResNet34 architecture."
   ]
  },
  {
   "cell_type": "code",
   "execution_count": 4,
   "metadata": {
    "id": "c3NnsPeiOpQF"
   },
   "outputs": [],
   "source": [
    "#First define residual layer\n",
    "class ResidualLayer(tf.keras.layers.Layer):\n",
    "  def __init__(self, filters, reduce=False):\n",
    "    super(ResidualLayer, self).__init__(name='')\n",
    "    filters1, filters2  = filters\n",
    "    self.reduce = reduce\n",
    "\n",
    "    if reduce:\n",
    "        self.conv2a = tf.keras.layers.Conv2D(filters1, (3, 3), strides=(2, 2), padding='same')\n",
    "    else:\n",
    "        self.conv2a = tf.keras.layers.Conv2D(filters1, (3, 3), padding='same')\n",
    "    self.bn2a = tf.keras.layers.BatchNormalization()\n",
    "    \n",
    "    self.conv2b = tf.keras.layers.Conv2D(filters2, (3, 3), padding='same')\n",
    "    self.bn2b = tf.keras.layers.BatchNormalization()\n",
    "\n",
    "  def call(self, input_tensor, training=False):\n",
    "    \n",
    "    x = self.conv2a(input_tensor)\n",
    "    x = self.bn2a(x, training=training)\n",
    "    x = tf.nn.relu(x)\n",
    "    \n",
    "    x = self.conv2b(x)\n",
    "    x = self.bn2b(x, training=training)\n",
    "    \n",
    "    if not self.reduce:\n",
    "        x += input_tensor\n",
    "        \n",
    "    return tf.nn.relu(x)\n",
    "\n",
    "# Now the whole model\n",
    "class ResNet34(tf.keras.Model):\n",
    "  def __init__(self, num_classes):\n",
    "    super(ResNet34, self).__init__(name='')\n",
    "    #initial data convulation/pooling  \n",
    "    self.conv_7x7_1 = tf.keras.layers.Conv2D(64, (7,7), strides=(2,2), padding='same', activation='relu')\n",
    "    # the only max-pooling\n",
    "    self.max_pool = tf.keras.layers.MaxPooling2D(pool_size=(3,3), strides=(2,2), padding='same')\n",
    "    # first residual block\n",
    "    self.r1a = ResidualLayer([64, 64])\n",
    "    self.r1b = ResidualLayer([64, 64])\n",
    "    self.r1c = ResidualLayer([64, 64])\n",
    "    # second residual block\n",
    "    self.r2a = ResidualLayer([128, 128], reduce=True)\n",
    "    self.r2b = ResidualLayer([128, 128])\n",
    "    self.r2c = ResidualLayer([128, 128])\n",
    "    self.r2d = ResidualLayer([128, 128])\n",
    "    # third residual block\n",
    "    self.r3a = ResidualLayer([256, 256], reduce=True) \n",
    "    self.r3b = ResidualLayer([256, 256]) \n",
    "    self.r3c = ResidualLayer([256, 256]) \n",
    "    self.r3d = ResidualLayer([256, 256]) \n",
    "    self.r3e = ResidualLayer([256, 256]) \n",
    "    self.r3f = ResidualLayer([256, 256]) \n",
    "    # fourth residual block\n",
    "    self.r4a = ResidualLayer([512, 512], reduce=True) \n",
    "    self.r4b = ResidualLayer([512, 512]) \n",
    "    self.r4c = ResidualLayer([512, 512]) \n",
    "    # the only avg-pooling\n",
    "    self.avg_pool = tf.keras.layers.AveragePooling2D(pool_size=(7,7), strides=(1,1))\n",
    "    # the dense and output\n",
    "    self.flat = tf.keras.layers.Flatten()\n",
    "    self.dens_1 = tf.keras.layers.Dense(1000, activation='relu')\n",
    "    # in the original ResNet there is no dropout\n",
    "    # but we add it since we train our model on \n",
    "    # a smaller data set than ImageNet and overfit\n",
    "    # occurs\n",
    "    self.drop_1 = tf.keras.layers.Dropout(rate=0.8)\n",
    "    self.dens_2 = tf.keras.layers.Dense(num_classes, activation='softmax')\n",
    "\n",
    "  def call(self, x, training=False):\n",
    "    \n",
    "    x = self.conv_7x7_1(x)\n",
    "    x = self.max_pool(x)\n",
    "    x = self.r1a(x, training=training)\n",
    "    x = self.r1b(x, training=training)\n",
    "    x = self.r1c(x, training=training)\n",
    "    x = self.r2a(x, training=training)\n",
    "    x = self.r2b(x, training=training)\n",
    "    x = self.r2c(x, training=training)   \n",
    "    x = self.r2d(x, training=training)   \n",
    "    x = self.r3a(x, training=training)\n",
    "    x = self.r3b(x, training=training)\n",
    "    x = self.r3c(x, training=training)   \n",
    "    x = self.r3d(x, training=training)  \n",
    "    x = self.r3e(x, training=training)   \n",
    "    x = self.r3f(x, training=training) \n",
    "    x = self.r4a(x, training=training)\n",
    "    x = self.r4b(x, training=training)\n",
    "    x = self.r4c(x, training=training)\n",
    "    x = self.avg_pool(x)\n",
    "    x = self.flat(x)\n",
    "    x = self.dens_1(x)                                  \n",
    "    x = self.drop_1(x)\n",
    "    x = self.dens_2(x)\n",
    "    \n",
    "    return x\n",
    "\n",
    "model = ResNet34(10)"
   ]
  },
  {
   "cell_type": "markdown",
   "metadata": {
    "id": "Y_FbrafEOpQG"
   },
   "source": [
    "Let's check the model summary."
   ]
  },
  {
   "cell_type": "markdown",
   "metadata": {
    "id": "_oAob5v_OpQI"
   },
   "source": [
    "### Defining the loss function and compiling the model\n",
    "\n",
    "Here we define our optimizer, loss function, and necessary metrics."
   ]
  },
  {
   "cell_type": "code",
   "execution_count": 5,
   "metadata": {
    "id": "VfSVlAx-OpQI"
   },
   "outputs": [],
   "source": [
    "model.compile(loss='categorical_crossentropy',\n",
    "              optimizer=tf.keras.optimizers.SGD(lr=0.01, momentum=0.9),\n",
    "              metrics=['accuracy'])"
   ]
  },
  {
   "cell_type": "markdown",
   "metadata": {
    "id": "cDsDQKaSOpQI"
   },
   "source": [
    "### Plotting function\n",
    "We define plotting function to investigate training of our model"
   ]
  },
  {
   "cell_type": "code",
   "execution_count": 6,
   "metadata": {
    "id": "N95p3dPhOpQJ"
   },
   "outputs": [],
   "source": [
    "def plot_conv(hist):                     \n",
    "    history_dict = hist.history\n",
    "    train_acc = history_dict['accuracy']\n",
    "    val_acc = history_dict['val_accuracy']\n",
    "    train_loss = history_dict['loss']\n",
    "    val_loss = history_dict['val_loss']\n",
    "    \n",
    "    fig, axs = plt.subplots(1,2, figsize=(15,5))\n",
    "    epochs = range(1, len(train_acc) + 1)\n",
    "    axs[0].plot(epochs, val_loss, 'b', label='Validation loss')\n",
    "    axs[0].plot(epochs, train_loss, c='orange', label='Training loss')\n",
    "    axs[0].set_title('Training and validation loss')\n",
    "    axs[0].set_xlabel('Epochs')\n",
    "    axs[0].set_ylabel('Loss')\n",
    "    #axs[0].set_xscale('log')\n",
    "    axs[0].legend()\n",
    "    \n",
    "    axs[1].plot(epochs, val_acc, 'b', label='Validation accuracy')\n",
    "    axs[1].plot(epochs, train_acc, c='orange', label='Training accuracy')\n",
    "    axs[1].set_title('Training and validation accuracy')\n",
    "    axs[1].set_xlabel('Epochs')\n",
    "    axs[1].set_ylabel('Accuracy')\n",
    "    #axs[1].set_xscale('log')\n",
    "    axs[1].legend()\n",
    "    plt.tight_layout()\n",
    "\n",
    "    print(\"Final statistics\")\n",
    "    print(\"Training\")\n",
    "    print(\"Loss: {:.3f}  Accuracy: {:.3f}\".format(train_loss[-1], train_acc[-1]))\n",
    "    print(\"Validation\")\n",
    "    print(\"Loss: {:.3f}  Accuracy: {:.3f}\".format(val_loss[-1], val_acc[-1]))"
   ]
  },
  {
   "cell_type": "markdown",
   "metadata": {
    "id": "zkkrZOgROpQJ"
   },
   "source": [
    "### Training\n",
    "\n",
    "We train our model for 10 epochs to see how it performs."
   ]
  },
  {
   "cell_type": "code",
   "execution_count": 7,
   "metadata": {
    "colab": {
     "base_uri": "https://localhost:8080/",
     "height": 1000
    },
    "id": "VpgFVeTWOpQJ",
    "outputId": "971b5be9-19d2-47da-f3e9-ab5ee2645a05",
    "scrolled": false
   },
   "outputs": [
    {
     "name": "stdout",
     "output_type": "stream",
     "text": [
      "Epoch 1/50\n",
      "74/74 [==============================] - 83s 1s/step - loss: 2.8140 - accuracy: 0.1124 - val_loss: 234.3018 - val_accuracy: 0.1017\n",
      "Epoch 2/50\n",
      "74/74 [==============================] - 74s 983ms/step - loss: 2.2504 - accuracy: 0.1809 - val_loss: 4.4926 - val_accuracy: 0.1144\n",
      "Epoch 3/50\n",
      "74/74 [==============================] - 74s 983ms/step - loss: 2.1816 - accuracy: 0.1966 - val_loss: 2.2460 - val_accuracy: 0.1654\n",
      "Epoch 4/50\n",
      "74/74 [==============================] - 74s 980ms/step - loss: 2.1648 - accuracy: 0.2031 - val_loss: 2.2425 - val_accuracy: 0.1664\n",
      "Epoch 5/50\n",
      "74/74 [==============================] - 74s 979ms/step - loss: 2.1424 - accuracy: 0.2161 - val_loss: 2.1423 - val_accuracy: 0.1934\n",
      "Epoch 6/50\n",
      "74/74 [==============================] - 74s 980ms/step - loss: 2.1083 - accuracy: 0.2333 - val_loss: 2.1608 - val_accuracy: 0.1901\n",
      "Epoch 7/50\n",
      "74/74 [==============================] - 74s 980ms/step - loss: 2.0916 - accuracy: 0.2497 - val_loss: 2.3401 - val_accuracy: 0.1585\n",
      "Epoch 8/50\n",
      "74/74 [==============================] - 74s 979ms/step - loss: 2.0752 - accuracy: 0.2551 - val_loss: 2.1976 - val_accuracy: 0.1893\n",
      "Epoch 9/50\n",
      "74/74 [==============================] - 74s 980ms/step - loss: 2.0513 - accuracy: 0.2657 - val_loss: 2.3582 - val_accuracy: 0.1567\n",
      "Epoch 10/50\n",
      "74/74 [==============================] - 74s 979ms/step - loss: 2.0409 - accuracy: 0.2744 - val_loss: 2.2251 - val_accuracy: 0.1824\n",
      "Epoch 11/50\n",
      "74/74 [==============================] - 74s 979ms/step - loss: 2.0162 - accuracy: 0.2881 - val_loss: 2.1335 - val_accuracy: 0.2489\n",
      "Epoch 12/50\n",
      "74/74 [==============================] - 74s 978ms/step - loss: 1.9585 - accuracy: 0.3041 - val_loss: 2.1947 - val_accuracy: 0.2296\n",
      "Epoch 13/50\n",
      "74/74 [==============================] - 74s 979ms/step - loss: 1.9354 - accuracy: 0.3180 - val_loss: 2.5073 - val_accuracy: 0.1967\n",
      "Epoch 14/50\n",
      "74/74 [==============================] - 74s 978ms/step - loss: 1.9024 - accuracy: 0.3384 - val_loss: 2.3960 - val_accuracy: 0.2265\n",
      "Epoch 15/50\n",
      "74/74 [==============================] - 74s 978ms/step - loss: 1.8858 - accuracy: 0.3500 - val_loss: 2.0152 - val_accuracy: 0.3195\n",
      "Epoch 16/50\n",
      "74/74 [==============================] - 74s 980ms/step - loss: 1.8009 - accuracy: 0.3887 - val_loss: 1.7325 - val_accuracy: 0.4201\n",
      "Epoch 17/50\n",
      "74/74 [==============================] - 74s 979ms/step - loss: 1.7270 - accuracy: 0.4208 - val_loss: 2.0592 - val_accuracy: 0.3292\n",
      "Epoch 18/50\n",
      "74/74 [==============================] - 74s 977ms/step - loss: 1.6717 - accuracy: 0.4405 - val_loss: 2.1129 - val_accuracy: 0.3585\n",
      "Epoch 19/50\n",
      "74/74 [==============================] - 74s 978ms/step - loss: 1.6273 - accuracy: 0.4543 - val_loss: 1.9299 - val_accuracy: 0.3995\n",
      "Epoch 20/50\n",
      "74/74 [==============================] - 74s 979ms/step - loss: 1.5468 - accuracy: 0.4951 - val_loss: 2.4529 - val_accuracy: 0.3006\n",
      "Epoch 21/50\n",
      "74/74 [==============================] - 74s 979ms/step - loss: 1.5338 - accuracy: 0.4982 - val_loss: 1.5457 - val_accuracy: 0.4685\n",
      "Epoch 22/50\n",
      "74/74 [==============================] - 74s 981ms/step - loss: 1.4806 - accuracy: 0.5094 - val_loss: 1.3643 - val_accuracy: 0.5636\n",
      "Epoch 23/50\n",
      "74/74 [==============================] - 74s 978ms/step - loss: 1.4303 - accuracy: 0.5342 - val_loss: 1.5544 - val_accuracy: 0.4917\n",
      "Epoch 24/50\n",
      "74/74 [==============================] - 74s 981ms/step - loss: 1.3949 - accuracy: 0.5502 - val_loss: 1.2260 - val_accuracy: 0.6003\n",
      "Epoch 25/50\n",
      "74/74 [==============================] - 74s 977ms/step - loss: 1.3591 - accuracy: 0.5576 - val_loss: 1.2117 - val_accuracy: 0.5888\n",
      "Epoch 26/50\n",
      "74/74 [==============================] - 74s 974ms/step - loss: 1.3258 - accuracy: 0.5728 - val_loss: 1.6135 - val_accuracy: 0.4932\n",
      "Epoch 27/50\n",
      "74/74 [==============================] - 74s 980ms/step - loss: 1.2751 - accuracy: 0.5932 - val_loss: 1.5930 - val_accuracy: 0.5210\n",
      "Epoch 28/50\n",
      "74/74 [==============================] - 75s 987ms/step - loss: 1.2620 - accuracy: 0.5931 - val_loss: 1.2473 - val_accuracy: 0.5949\n",
      "Epoch 29/50\n",
      "74/74 [==============================] - 75s 984ms/step - loss: 1.2204 - accuracy: 0.6023 - val_loss: 1.8892 - val_accuracy: 0.4961\n",
      "Epoch 30/50\n",
      "74/74 [==============================] - 75s 984ms/step - loss: 1.1669 - accuracy: 0.6265 - val_loss: 1.6944 - val_accuracy: 0.4685\n",
      "Epoch 31/50\n",
      "74/74 [==============================] - 74s 982ms/step - loss: 1.1414 - accuracy: 0.6341 - val_loss: 1.5824 - val_accuracy: 0.5534\n",
      "Epoch 32/50\n",
      "74/74 [==============================] - 74s 979ms/step - loss: 1.1169 - accuracy: 0.6363 - val_loss: 1.0544 - val_accuracy: 0.6688\n",
      "Epoch 33/50\n",
      "74/74 [==============================] - 74s 983ms/step - loss: 1.1108 - accuracy: 0.6494 - val_loss: 1.6549 - val_accuracy: 0.5450\n",
      "Epoch 34/50\n",
      "74/74 [==============================] - 75s 987ms/step - loss: 1.0414 - accuracy: 0.6696 - val_loss: 1.2699 - val_accuracy: 0.5868\n",
      "Epoch 35/50\n",
      "74/74 [==============================] - 75s 987ms/step - loss: 1.0187 - accuracy: 0.6710 - val_loss: 1.3169 - val_accuracy: 0.5875\n",
      "Epoch 36/50\n",
      "74/74 [==============================] - 75s 987ms/step - loss: 1.0348 - accuracy: 0.6677 - val_loss: 2.2786 - val_accuracy: 0.3860\n",
      "Epoch 37/50\n",
      "74/74 [==============================] - 75s 988ms/step - loss: 1.0067 - accuracy: 0.6869 - val_loss: 1.2892 - val_accuracy: 0.6163\n",
      "Epoch 38/50\n",
      "74/74 [==============================] - 75s 987ms/step - loss: 0.9920 - accuracy: 0.6871 - val_loss: 1.1257 - val_accuracy: 0.6247\n",
      "Epoch 39/50\n",
      "74/74 [==============================] - 74s 983ms/step - loss: 0.9571 - accuracy: 0.6998 - val_loss: 0.9934 - val_accuracy: 0.6859\n",
      "Epoch 40/50\n",
      "74/74 [==============================] - 75s 985ms/step - loss: 0.9120 - accuracy: 0.7055 - val_loss: 1.8156 - val_accuracy: 0.4716\n",
      "Epoch 41/50\n",
      "74/74 [==============================] - 75s 988ms/step - loss: 0.9005 - accuracy: 0.7113 - val_loss: 2.0130 - val_accuracy: 0.4843\n",
      "Epoch 42/50\n",
      "74/74 [==============================] - 75s 984ms/step - loss: 0.8918 - accuracy: 0.7189 - val_loss: 0.9031 - val_accuracy: 0.7238\n",
      "Epoch 43/50\n",
      "74/74 [==============================] - 74s 983ms/step - loss: 0.8558 - accuracy: 0.7267 - val_loss: 1.4138 - val_accuracy: 0.5906\n",
      "Epoch 44/50\n",
      "74/74 [==============================] - 75s 985ms/step - loss: 0.8352 - accuracy: 0.7320 - val_loss: 0.8361 - val_accuracy: 0.7452\n",
      "Epoch 45/50\n",
      "74/74 [==============================] - 74s 983ms/step - loss: 0.8192 - accuracy: 0.7365 - val_loss: 1.1150 - val_accuracy: 0.6510\n",
      "Epoch 46/50\n",
      "74/74 [==============================] - 74s 983ms/step - loss: 0.8042 - accuracy: 0.7399 - val_loss: 1.9932 - val_accuracy: 0.5172\n",
      "Epoch 47/50\n",
      "74/74 [==============================] - 74s 984ms/step - loss: 0.7754 - accuracy: 0.7590 - val_loss: 1.0545 - val_accuracy: 0.7004\n",
      "Epoch 48/50\n",
      "74/74 [==============================] - 74s 982ms/step - loss: 0.7831 - accuracy: 0.7503 - val_loss: 1.7648 - val_accuracy: 0.5452\n",
      "Epoch 49/50\n",
      "74/74 [==============================] - 74s 984ms/step - loss: 0.7597 - accuracy: 0.7580 - val_loss: 1.6484 - val_accuracy: 0.5439\n",
      "Epoch 50/50\n",
      "74/74 [==============================] - 75s 984ms/step - loss: 0.7688 - accuracy: 0.7507 - val_loss: 0.8700 - val_accuracy: 0.7254\n",
      "Final statistics\n",
      "Training\n",
      "Loss: 0.764  Accuracy: 0.755\n",
      "Validation\n",
      "Loss: 0.870  Accuracy: 0.725\n"
     ]
    },
    {
     "data": {
      "image/png": "[encoded data removed]",
      "text/plain": [
       "<Figure size 1080x360 with 2 Axes>"
      ]
     },
     "metadata": {
      "needs_background": "light",
      "tags": []
     },
     "output_type": "display_data"
    }
   ],
   "source": [
    "base_hist = model.fit(\n",
    "    train_ds,\n",
    "    epochs=50,\n",
    "    validation_data=valid_ds, \n",
    "    verbose = 1\n",
    ")\n",
    "\n",
    "plot_conv(base_hist)"
   ]
  },
  {
   "cell_type": "markdown",
   "metadata": {
    "id": "xl82NDNkOpQK"
   },
   "source": [
    "For an architecture with 0.8 dropout before the output layer accuracy of 72.5% was achieved. Architectures with lower number of fully connected nodes could be tried combined with additional data augmentation methods to further boost accuracy."
   ]
  }
 ],
 "metadata": {
  "accelerator": "GPU",
  "colab": {
   "collapsed_sections": [],
   "name": "5_ResNet34_ImageNette.ipynb",
   "provenance": []
  },
  "kernelspec": {
   "display_name": "Python 3",
   "language": "python",
   "name": "python3"
  },
  "language_info": {
   "codemirror_mode": {
    "name": "ipython",
    "version": 3
   },
   "file_extension": ".py",
   "mimetype": "text/x-python",
   "name": "python",
   "nbconvert_exporter": "python",
   "pygments_lexer": "ipython3",
   "version": "3.8.5"
  }
 },
 "nbformat": 4,
 "nbformat_minor": 1
}
