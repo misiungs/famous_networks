{
 "cells": [
  {
   "cell_type": "markdown",
   "metadata": {
    "id": "B2vJV4PXnJti"
   },
   "source": [
    "In this notebook VGG16 (K. Simonyan and A. Zisserman, “Very Deep Convolutional Networks for Large-Scale Image Recognition”) is recreated but for the sake of disk space and computational time it is run on Flowers dataset. VGG consists of 13 convulation layers and 3 dense layers with 5 max pooling layers in between. For network building we use keras.  \n",
    "### Import libraries"
   ]
  },
  {
   "cell_type": "code",
   "execution_count": 1,
   "metadata": {
    "id": "oS-szfiwnJtq"
   },
   "outputs": [],
   "source": [
    "import time\n",
    "import numpy as np\n",
    "import matplotlib.pyplot as plt\n",
    "import tensorflow_datasets as tfds\n",
    "import tensorflow as tf\n",
    "# to display training progress & keep output clean\n",
    "from IPython.display import clear_output"
   ]
  },
  {
   "cell_type": "code",
   "execution_count": 2,
   "metadata": {
    "colab": {
     "base_uri": "https://localhost:8080/",
     "height": 35
    },
    "id": "4Ye9j1qAnJtr",
    "outputId": "7a756de8-db39-40d8-a2f9-3ffa2425caaf"
   },
   "outputs": [
    {
     "data": {
      "application/vnd.google.colaboratory.intrinsic+json": {
       "type": "string"
      },
      "text/plain": [
       "'/device:GPU:0'"
      ]
     },
     "execution_count": 2,
     "metadata": {
      "tags": []
     },
     "output_type": "execute_result"
    }
   ],
   "source": [
    "tf.test.gpu_device_name()"
   ]
  },
  {
   "cell_type": "markdown",
   "metadata": {
    "id": "_YokqDVpnJtr"
   },
   "source": [
    "### Load dataset\n",
    "Load the data set and define basic data set preprocessing and sampling options."
   ]
  },
  {
   "cell_type": "code",
   "execution_count": 3,
   "metadata": {
    "id": "_USzYdyVnJts",
    "scrolled": false
   },
   "outputs": [],
   "source": [
    "dataset_name = 'tf_flowers'\n",
    "batch_size = 128\n",
    "\n",
    "@tf.function\n",
    "def transform_inp(image, label):\n",
    "  image = tf.image.resize_with_crop_or_pad(image, 224, 224)\n",
    "  #image = crop_center(image)\n",
    "  return tf.cast(image, tf.float32)/255., tf.one_hot(label, depth=5)\n",
    "\n",
    "\n",
    "train_ds = tfds.load(dataset_name, split='train[:-10%]', as_supervised=True)\n",
    "valid_ds = tfds.load(dataset_name, split='train[-10%:]', as_supervised=True)\n",
    "\n",
    "train_ds = train_ds.map(transform_inp).batch(batch_size)\n",
    "valid_ds = valid_ds.map(transform_inp).batch(batch_size)\n",
    "\n",
    "train_ds = train_ds.prefetch(tf.data.experimental.AUTOTUNE)"
   ]
  },
  {
   "cell_type": "markdown",
   "metadata": {
    "id": "A4OUFRaJnJts"
   },
   "source": [
    "### Model\n",
    "We define our model following VGG16 architecture."
   ]
  },
  {
   "cell_type": "code",
   "execution_count": 4,
   "metadata": {
    "id": "OiotsNJnnJts"
   },
   "outputs": [],
   "source": [
    "model = tf.keras.models.Sequential([\n",
    "    \n",
    "    #first budle (2 conv layers)\n",
    "    tf.keras.layers.Conv2D(filters=64, kernel_size=(3,3), strides=(1,1),\n",
    "                           padding='same', activation='relu', input_shape=(224,224,3)),\n",
    "    tf.keras.layers.Conv2D(filters=64, kernel_size=(3,3), strides=(1,1),\n",
    "                           padding='same', activation='relu'),\n",
    "    tf.keras.layers.MaxPool2D(pool_size=(2,2), strides=(2,2)),\n",
    "\n",
    "    #second budle (2 conv layers)\n",
    "    tf.keras.layers.Conv2D(filters=128, kernel_size=(3,3), strides=(1,1), \n",
    "                           padding='same', activation='relu'),\n",
    "    tf.keras.layers.Conv2D(filters=128, kernel_size=(3,3), strides=(1,1), \n",
    "                           padding='same', activation='relu'),\n",
    "    tf.keras.layers.MaxPool2D(pool_size=(2,2), strides=(2,2)),\n",
    "    \n",
    "    #third budle (3 conv layers)\n",
    "    tf.keras.layers.Conv2D(filters=256, kernel_size=(3,3), strides=(1,1), \n",
    "                           padding='same', activation='relu'),\n",
    "    tf.keras.layers.Conv2D(filters=256, kernel_size=(3,3), strides=(1,1), \n",
    "                           padding='same', activation='relu'),\n",
    "    tf.keras.layers.Conv2D(filters=256, kernel_size=(3,3), strides=(1,1), \n",
    "                           padding='same', activation='relu'),\n",
    "    tf.keras.layers.MaxPool2D(pool_size=(2,2), strides=(2,2)),\n",
    "    \n",
    "    #fifth bundle (3 conv layers)\n",
    "    tf.keras.layers.Conv2D(filters=512, kernel_size=(3,3), strides=(1,1), \n",
    "                           padding='same', activation='relu'),\n",
    "    tf.keras.layers.Conv2D(filters=512, kernel_size=(3,3), strides=(1,1), \n",
    "                           padding='same', activation='relu'),\n",
    "    tf.keras.layers.Conv2D(filters=512, kernel_size=(3,3), strides=(1,1), \n",
    "                           padding='same', activation='relu'),\n",
    "    tf.keras.layers.MaxPool2D(pool_size=(2,2), strides=(2,2)),  \n",
    "\n",
    "    #fifth bundle (3 conv layers)\n",
    "    tf.keras.layers.Conv2D(filters=512, kernel_size=(3,3), strides=(1,1), \n",
    "                           padding='same', activation='relu'),\n",
    "    tf.keras.layers.Conv2D(filters=512, kernel_size=(3,3), strides=(1,1), \n",
    "                           padding='same', activation='relu'),\n",
    "    tf.keras.layers.Conv2D(filters=512, kernel_size=(3,3), strides=(1,1), \n",
    "                           padding='same', activation='relu'),\n",
    "    tf.keras.layers.MaxPool2D(pool_size=(2,2), strides=(2,2)),  \n",
    "    \n",
    "    #sixth fully connected bundle (13 conv layers + 3 dens)\n",
    "    tf.keras.layers.Flatten(),\n",
    "    tf.keras.layers.Dense(4096, activation='relu'),\n",
    "    tf.keras.layers.Dropout(0.5),\n",
    "    tf.keras.layers.Dense(4096, activation='relu'),\n",
    "    tf.keras.layers.Dropout(0.5),\n",
    "    tf.keras.layers.Dense(5, activation='softmax')\n",
    "])"
   ]
  },
  {
   "cell_type": "markdown",
   "metadata": {
    "id": "y3HeMJP1nJtu"
   },
   "source": [
    "Let's check the model summary."
   ]
  },
  {
   "cell_type": "code",
   "execution_count": 5,
   "metadata": {
    "colab": {
     "base_uri": "https://localhost:8080/"
    },
    "id": "cVNGFx4enJtu",
    "outputId": "7362b23e-57f0-4085-9c8d-03bd577cae32"
   },
   "outputs": [
    {
     "name": "stdout",
     "output_type": "stream",
     "text": [
      "Model: \"sequential\"\n",
      "_________________________________________________________________\n",
      "Layer (type)                 Output Shape              Param #   \n",
      "=================================================================\n",
      "conv2d (Conv2D)              (None, 224, 224, 64)      1792      \n",
      "_________________________________________________________________\n",
      "conv2d_1 (Conv2D)            (None, 224, 224, 64)      36928     \n",
      "_________________________________________________________________\n",
      "max_pooling2d (MaxPooling2D) (None, 112, 112, 64)      0         \n",
      "_________________________________________________________________\n",
      "conv2d_2 (Conv2D)            (None, 112, 112, 128)     73856     \n",
      "_________________________________________________________________\n",
      "conv2d_3 (Conv2D)            (None, 112, 112, 128)     147584    \n",
      "_________________________________________________________________\n",
      "max_pooling2d_1 (MaxPooling2 (None, 56, 56, 128)       0         \n",
      "_________________________________________________________________\n",
      "conv2d_4 (Conv2D)            (None, 56, 56, 256)       295168    \n",
      "_________________________________________________________________\n",
      "conv2d_5 (Conv2D)            (None, 56, 56, 256)       590080    \n",
      "_________________________________________________________________\n",
      "conv2d_6 (Conv2D)            (None, 56, 56, 256)       590080    \n",
      "_________________________________________________________________\n",
      "max_pooling2d_2 (MaxPooling2 (None, 28, 28, 256)       0         \n",
      "_________________________________________________________________\n",
      "conv2d_7 (Conv2D)            (None, 28, 28, 512)       1180160   \n",
      "_________________________________________________________________\n",
      "conv2d_8 (Conv2D)            (None, 28, 28, 512)       2359808   \n",
      "_________________________________________________________________\n",
      "conv2d_9 (Conv2D)            (None, 28, 28, 512)       2359808   \n",
      "_________________________________________________________________\n",
      "max_pooling2d_3 (MaxPooling2 (None, 14, 14, 512)       0         \n",
      "_________________________________________________________________\n",
      "conv2d_10 (Conv2D)           (None, 14, 14, 512)       2359808   \n",
      "_________________________________________________________________\n",
      "conv2d_11 (Conv2D)           (None, 14, 14, 512)       2359808   \n",
      "_________________________________________________________________\n",
      "conv2d_12 (Conv2D)           (None, 14, 14, 512)       2359808   \n",
      "_________________________________________________________________\n",
      "max_pooling2d_4 (MaxPooling2 (None, 7, 7, 512)         0         \n",
      "_________________________________________________________________\n",
      "flatten (Flatten)            (None, 25088)             0         \n",
      "_________________________________________________________________\n",
      "dense (Dense)                (None, 4096)              102764544 \n",
      "_________________________________________________________________\n",
      "dropout (Dropout)            (None, 4096)              0         \n",
      "_________________________________________________________________\n",
      "dense_1 (Dense)              (None, 4096)              16781312  \n",
      "_________________________________________________________________\n",
      "dropout_1 (Dropout)          (None, 4096)              0         \n",
      "_________________________________________________________________\n",
      "dense_2 (Dense)              (None, 5)                 20485     \n",
      "=================================================================\n",
      "Total params: 134,281,029\n",
      "Trainable params: 134,281,029\n",
      "Non-trainable params: 0\n",
      "_________________________________________________________________\n"
     ]
    }
   ],
   "source": [
    "model.summary()"
   ]
  },
  {
   "cell_type": "markdown",
   "metadata": {
    "id": "N6gGYrtxnJtu"
   },
   "source": [
    "### Defining the loss function and compiling the model\n",
    "\n",
    "Here we define our optimizer, loss function, and necessary metrics."
   ]
  },
  {
   "cell_type": "code",
   "execution_count": 6,
   "metadata": {
    "id": "VybcocJMnJtv"
   },
   "outputs": [],
   "source": [
    "model.compile(loss='categorical_crossentropy',\n",
    "              optimizer=tf.keras.optimizers.SGD(lr=0.01, momentum=0.9),\n",
    "              metrics=['accuracy'])"
   ]
  },
  {
   "cell_type": "markdown",
   "metadata": {
    "id": "79FLY3sXnJtv"
   },
   "source": [
    "### Plotting function\n",
    "We define plotting function to investigate training of our model"
   ]
  },
  {
   "cell_type": "code",
   "execution_count": 7,
   "metadata": {
    "id": "lkRqJCBDnJtv"
   },
   "outputs": [],
   "source": [
    "def plot_conv(hist):                     \n",
    "    history_dict = hist.history\n",
    "    train_acc = history_dict['accuracy']\n",
    "    val_acc = history_dict['val_accuracy']\n",
    "    train_loss = history_dict['loss']\n",
    "    val_loss = history_dict['val_loss']\n",
    "    \n",
    "    fig, axs = plt.subplots(1,2, figsize=(15,5))\n",
    "    epochs = range(1, len(train_acc) + 1)\n",
    "    axs[0].plot(epochs, val_loss, 'b', label='Validation loss')\n",
    "    axs[0].plot(epochs, train_loss, c='orange', label='Training loss')\n",
    "    axs[0].set_title('Training and validation loss')\n",
    "    axs[0].set_xlabel('Epochs')\n",
    "    axs[0].set_ylabel('Loss')\n",
    "    #axs[0].set_xscale('log')\n",
    "    axs[0].legend()\n",
    "    \n",
    "    axs[1].plot(epochs, val_acc, 'b', label='Validation accuracy')\n",
    "    axs[1].plot(epochs, train_acc, c='orange', label='Training accuracy')\n",
    "    axs[1].set_title('Training and validation accuracy')\n",
    "    axs[1].set_xlabel('Epochs')\n",
    "    axs[1].set_ylabel('Accuracy')\n",
    "    #axs[1].set_xscale('log')\n",
    "    axs[1].legend()\n",
    "    plt.tight_layout()\n",
    "\n",
    "    print(\"Final statistics\")\n",
    "    print(\"Training\")\n",
    "    print(\"Loss: {:.3f}  Accuracy: {:.3f}\".format(train_loss[-1], train_acc[-1]))\n",
    "    print(\"Validation\")\n",
    "    print(\"Loss: {:.3f}  Accuracy: {:.3f}\".format(val_loss[-1], val_acc[-1]))"
   ]
  },
  {
   "cell_type": "markdown",
   "metadata": {
    "id": "IgnP1MwynJtw"
   },
   "source": [
    "### Training\n",
    "\n",
    "We train our model for 25 epochs to see how it performs."
   ]
  },
  {
   "cell_type": "code",
   "execution_count": 8,
   "metadata": {
    "colab": {
     "base_uri": "https://localhost:8080/",
     "height": 1000
    },
    "id": "xK0zFAninJtx",
    "outputId": "840dfba8-5e61-4f65-f681-8f398998e42b",
    "scrolled": false
   },
   "outputs": [
    {
     "name": "stdout",
     "output_type": "stream",
     "text": [
      "Epoch 1/25\n",
      "26/26 [==============================] - 74s 2s/step - loss: 1.6070 - accuracy: 0.2614 - val_loss: 1.6123 - val_accuracy: 0.1907\n",
      "Epoch 2/25\n",
      "26/26 [==============================] - 46s 2s/step - loss: 1.5987 - accuracy: 0.2507 - val_loss: 1.6177 - val_accuracy: 0.1907\n",
      "Epoch 3/25\n",
      "26/26 [==============================] - 47s 2s/step - loss: 1.5994 - accuracy: 0.2507 - val_loss: 1.6151 - val_accuracy: 0.1907\n",
      "Epoch 4/25\n",
      "26/26 [==============================] - 47s 2s/step - loss: 1.5987 - accuracy: 0.2507 - val_loss: 1.6148 - val_accuracy: 0.1907\n",
      "Epoch 5/25\n",
      "26/26 [==============================] - 47s 2s/step - loss: 1.5972 - accuracy: 0.2507 - val_loss: 1.6121 - val_accuracy: 0.1907\n",
      "Epoch 6/25\n",
      "26/26 [==============================] - 47s 2s/step - loss: 1.5909 - accuracy: 0.2512 - val_loss: 1.5799 - val_accuracy: 0.2425\n",
      "Epoch 7/25\n",
      "26/26 [==============================] - 47s 2s/step - loss: 1.5437 - accuracy: 0.3140 - val_loss: 1.4512 - val_accuracy: 0.3025\n",
      "Epoch 8/25\n",
      "26/26 [==============================] - 47s 2s/step - loss: 1.4803 - accuracy: 0.3231 - val_loss: 1.3904 - val_accuracy: 0.4114\n",
      "Epoch 9/25\n",
      "26/26 [==============================] - 47s 2s/step - loss: 1.4219 - accuracy: 0.3684 - val_loss: 1.3095 - val_accuracy: 0.4523\n",
      "Epoch 10/25\n",
      "26/26 [==============================] - 47s 2s/step - loss: 1.3803 - accuracy: 0.3796 - val_loss: 1.2809 - val_accuracy: 0.3842\n",
      "Epoch 11/25\n",
      "26/26 [==============================] - 47s 2s/step - loss: 1.3726 - accuracy: 0.3914 - val_loss: 1.2710 - val_accuracy: 0.4305\n",
      "Epoch 12/25\n",
      "26/26 [==============================] - 47s 2s/step - loss: 1.3457 - accuracy: 0.3967 - val_loss: 1.1514 - val_accuracy: 0.5204\n",
      "Epoch 13/25\n",
      "26/26 [==============================] - 47s 2s/step - loss: 1.2247 - accuracy: 0.5149 - val_loss: 1.0405 - val_accuracy: 0.5313\n",
      "Epoch 14/25\n",
      "26/26 [==============================] - 47s 2s/step - loss: 1.1877 - accuracy: 0.4933 - val_loss: 1.1445 - val_accuracy: 0.5259\n",
      "Epoch 15/25\n",
      "26/26 [==============================] - 46s 2s/step - loss: 1.1819 - accuracy: 0.5101 - val_loss: 1.0360 - val_accuracy: 0.5450\n",
      "Epoch 16/25\n",
      "26/26 [==============================] - 46s 2s/step - loss: 1.1027 - accuracy: 0.5397 - val_loss: 1.0554 - val_accuracy: 0.5368\n",
      "Epoch 17/25\n",
      "26/26 [==============================] - 46s 2s/step - loss: 1.0759 - accuracy: 0.5497 - val_loss: 0.9930 - val_accuracy: 0.6049\n",
      "Epoch 18/25\n",
      "26/26 [==============================] - 46s 2s/step - loss: 1.0335 - accuracy: 0.5831 - val_loss: 0.9781 - val_accuracy: 0.5995\n",
      "Epoch 19/25\n",
      "26/26 [==============================] - 47s 2s/step - loss: 1.0068 - accuracy: 0.5952 - val_loss: 0.9563 - val_accuracy: 0.5858\n",
      "Epoch 20/25\n",
      "26/26 [==============================] - 47s 2s/step - loss: 1.0028 - accuracy: 0.6009 - val_loss: 0.9213 - val_accuracy: 0.6158\n",
      "Epoch 21/25\n",
      "26/26 [==============================] - 47s 2s/step - loss: 0.9871 - accuracy: 0.6048 - val_loss: 0.9787 - val_accuracy: 0.5995\n",
      "Epoch 22/25\n",
      "26/26 [==============================] - 47s 2s/step - loss: 1.0062 - accuracy: 0.6063 - val_loss: 0.9736 - val_accuracy: 0.5695\n",
      "Epoch 23/25\n",
      "26/26 [==============================] - 47s 2s/step - loss: 0.9684 - accuracy: 0.6245 - val_loss: 1.0127 - val_accuracy: 0.5831\n",
      "Epoch 24/25\n",
      "26/26 [==============================] - 47s 2s/step - loss: 0.9614 - accuracy: 0.6216 - val_loss: 0.9732 - val_accuracy: 0.5940\n",
      "Epoch 25/25\n",
      "26/26 [==============================] - 47s 2s/step - loss: 0.9657 - accuracy: 0.6316 - val_loss: 0.9016 - val_accuracy: 0.6240\n",
      "Final statistics\n",
      "Training\n",
      "Loss: 0.979  Accuracy: 0.624\n",
      "Validation\n",
      "Loss: 0.902  Accuracy: 0.624\n"
     ]
    },
    {
     "data": {
      "image/png": "[encoded data removed]",
      "text/plain": [
       "<Figure size 1080x360 with 2 Axes>"
      ]
     },
     "metadata": {
      "needs_background": "light",
      "tags": []
     },
     "output_type": "display_data"
    }
   ],
   "source": [
    "base_hist = model.fit(\n",
    "    train_ds,\n",
    "    epochs=25,\n",
    "    validation_data=valid_ds, \n",
    "    verbose = 1\n",
    ")\n",
    "\n",
    "plot_conv(base_hist)"
   ]
  },
  {
   "cell_type": "markdown",
   "metadata": {
    "id": "rztWSo2nnJtx"
   },
   "source": [
    "Model still has plenty room for learning. To increase accuracy and reduce training time data augmentation techniques could be used and transfer learning from already pre-trained VGG16 could be applied."
   ]
  }
 ],
 "metadata": {
  "accelerator": "GPU",
  "colab": {
   "collapsed_sections": [],
   "name": "VGG16_ImageNette.ipynb",
   "provenance": [],
   "toc_visible": true
  },
  "kernelspec": {
   "display_name": "Python 3",
   "language": "python",
   "name": "python3"
  },
  "language_info": {
   "codemirror_mode": {
    "name": "ipython",
    "version": 3
   },
   "file_extension": ".py",
   "mimetype": "text/x-python",
   "name": "python",
   "nbconvert_exporter": "python",
   "pygments_lexer": "ipython3",
   "version": "3.8.5"
  }
 },
 "nbformat": 4,
 "nbformat_minor": 1
}
