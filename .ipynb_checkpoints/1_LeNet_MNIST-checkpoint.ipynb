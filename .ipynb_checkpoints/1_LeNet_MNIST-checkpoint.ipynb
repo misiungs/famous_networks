{
 "cells": [
  {
   "cell_type": "markdown",
   "metadata": {},
   "source": [
    "This notebook is about implementation of LeNet (Yann LeCun et al. 'Gradient-Based Learning Applied to Document Recognition'). It consists of 3 convulation layers, 2 max pool layers and 2 dense layers. Some parameters, such as activation functions have been changed to slightly improve network learning performance. This notebook consists of low-level implemetation of LeNet (no keras).\n",
    "### Import libraries"
   ]
  },
  {
   "cell_type": "code",
   "execution_count": 1,
   "metadata": {},
   "outputs": [],
   "source": [
    "import time\n",
    "import numpy as np\n",
    "import matplotlib.pyplot as plt\n",
    "import tensorflow_datasets as tfds\n",
    "import tensorflow as tf\n",
    "# to display training progress & keep output clean\n",
    "from IPython.display import clear_output"
   ]
  },
  {
   "cell_type": "markdown",
   "metadata": {},
   "source": [
    "### Load dataset\n",
    "Load the data set and define basic data set preprocessing and sampling options"
   ]
  },
  {
   "cell_type": "code",
   "execution_count": 2,
   "metadata": {},
   "outputs": [],
   "source": [
    "dataset_name = 'MNIST'\n",
    "num_output_classes = 10 \n",
    "batch_size = 128  \n",
    "learning_rate = 0.001  \n",
    "\n",
    "# one hot encode for 10 MNIST classes\n",
    "def transform_inp(image, label):\n",
    "  return tf.cast(image, tf.float32)/255., tf.one_hot(label, 10)\n",
    "\n",
    "# load your data from tfds\n",
    "train_ds = tfds.load(name=dataset_name, split='train[:-10%]', as_supervised=True)\n",
    "valid_ds = tfds.load(name=dataset_name, split='train[-10%:]', as_supervised=True)\n",
    "test_ds = tfds.load(name=dataset_name, split='test', as_supervised=True)\n",
    "\n",
    "\n",
    "# convert your labels in one-hot\n",
    "train_ds = train_ds.map(transform_inp)\n",
    "train_ds = train_ds.shuffle(1024).batch(batch_size)\n",
    "valid_ds = valid_ds.map(transform_inp).shuffle(1024).batch(batch_size)\n",
    "test_ds = test_ds.map(transform_inp).shuffle(1024).batch(batch_size)"
   ]
  },
  {
   "cell_type": "markdown",
   "metadata": {},
   "source": [
    "### Defining model related functions.\n",
    "Here we create basic functions that will be used as a building blocks in out model."
   ]
  },
  {
   "cell_type": "code",
   "execution_count": 3,
   "metadata": {},
   "outputs": [],
   "source": [
    "leaky_relu_alpha = 0.2\n",
    "dropout_rate = 0.\n",
    "\n",
    "def conv2d(inputs, filters, bias, stride_size, padding):\n",
    "    out = tf.nn.conv2d(inputs, filters, strides=[1, stride_size, stride_size, 1] , padding=padding) \n",
    "    return tf.nn.leaky_relu(out + bias, alpha=leaky_relu_alpha) \n",
    "\n",
    "def maxpool(inputs, pool_size, stride_size ):\n",
    "    return tf.nn.max_pool2d(inputs, ksize=[1, pool_size, pool_size, 1], padding='VALID',\n",
    "                            strides=[1, stride_size, stride_size, 1])\n",
    "\n",
    "def denseReLU(inputs, weights, bias):\n",
    "    x = tf.nn.leaky_relu(tf.matmul(inputs, weights) + bias, alpha=leaky_relu_alpha)\n",
    "    return tf.nn.dropout(x, rate=dropout_rate)\n",
    "\n",
    "def denseSoftMax(inputs, weights, bias):\n",
    "    x = tf.nn.softmax(tf.matmul(inputs, weights) + bias)\n",
    "    return x"
   ]
  },
  {
   "cell_type": "markdown",
   "metadata": {},
   "source": [
    "Also we define weights and biases for particular stages of our model."
   ]
  },
  {
   "cell_type": "code",
   "execution_count": 4,
   "metadata": {},
   "outputs": [],
   "source": [
    "output_classes = 10\n",
    "initializer = tf.initializers.glorot_uniform()\n",
    "\n",
    "def get_weight(shape, name):\n",
    "    return tf.Variable(initializer(shape), name=name, trainable=True, dtype=tf.float32)\n",
    "\n",
    "def get_bias(shape, name):\n",
    "    # initial over 0 to prevent dead neurons\n",
    "    return tf.Variable(tf.constant(0.1, shape=shape))\n",
    "\n",
    "\n",
    "shapes_w = [\n",
    "    [5, 5, 1, 6],\n",
    "    [5, 5, 6, 16],\n",
    "    [5, 5, 16, 120],\n",
    "    [120, 84],\n",
    "    [84, output_classes]\n",
    "]\n",
    "\n",
    "shapes_b = [\n",
    "    [6],\n",
    "    [16],\n",
    "    [120],\n",
    "    [84],\n",
    "    [output_classes]\n",
    "]\n",
    "\n",
    "\n",
    "weights = []\n",
    "for i in range(len(shapes_w)):\n",
    "    weights.append(get_weight(shapes_w[i], 'weight{}'.format(i)))\n",
    "\n",
    "bias = []\n",
    "for i in range(len(shapes_b)):\n",
    "    bias.append(get_bias(shapes_b[i], 'bias{}'.format(i)))\n",
    "    \n",
    "comb = weights + bias"
   ]
  },
  {
   "cell_type": "markdown",
   "metadata": {},
   "source": [
    "### Model\n",
    "Finally we define out model. We use tf.function decorator to take advantage of graphs speed-up."
   ]
  },
  {
   "cell_type": "code",
   "execution_count": 5,
   "metadata": {},
   "outputs": [],
   "source": [
    "@tf.function\n",
    "def model(x) :\n",
    "    #x = tf.cast(x, dtype=tf.float32)\n",
    "    \n",
    "    c1 = conv2d(x, weights[0], bias[0], stride_size=1, padding='SAME') \n",
    "    p1 = maxpool(c1, pool_size=2, stride_size=2)\n",
    "    \n",
    "    c2 = conv2d(p1, weights[1], bias[1], stride_size=1, padding='VALID')\n",
    "    p2 = maxpool(c2, pool_size=2, stride_size=2)\n",
    " \n",
    "    c3 = conv2d(p2, weights[2], bias[2], stride_size=1, padding='VALID')\n",
    "    \n",
    "    flatten = tf.reshape(c3, shape=(tf.shape(c3)[0], -1))\n",
    "\n",
    "    d1 = denseReLU(flatten, weights[3], bias[3])\n",
    "    d2 = denseSoftMax(d1, weights[4], bias[4]) \n",
    "\n",
    "    return d2"
   ]
  },
  {
   "cell_type": "markdown",
   "metadata": {},
   "source": [
    "### Defining the loss function and optimization using `tf.GradientTape`\n",
    "\n",
    "Here we define our optimizer, loss function, and necessary metrics. Training step is defined as a function with decorator for speed-up."
   ]
  },
  {
   "cell_type": "code",
   "execution_count": 6,
   "metadata": {},
   "outputs": [],
   "source": [
    "optimizer = tf.optimizers.Adam(learning_rate)\n",
    "# we use predefined metrics due to their update/reset\n",
    "# states that is useful for batches\n",
    "# metrics accuracy\n",
    "train_acc_metric = tf.keras.metrics.CategoricalAccuracy()\n",
    "val_acc_metric = tf.keras.metrics.CategoricalAccuracy()\n",
    "# metrics loss\n",
    "loss_cat = tf.keras.losses.CategoricalCrossentropy()\n",
    "train_loss_avg = tf.keras.metrics.Mean()\n",
    "val_loss_avg = tf.keras.metrics.Mean()\n",
    "\n",
    "@tf.function\n",
    "def train_step(model, inputs, outputs):\n",
    "    # forward and backward steps\n",
    "    with tf.GradientTape() as tape:\n",
    "        pred = model(inputs)\n",
    "        loss = loss_cat(pred, outputs)\n",
    "    grads = tape.gradient(loss, comb)\n",
    "    optimizer.apply_gradients(zip(grads, comb))\n",
    "    \n",
    "    # update training metric and loss\n",
    "    train_acc_metric.update_state(outputs, pred)\n",
    "    train_loss_avg.update_state(loss)\n",
    "    return loss"
   ]
  },
  {
   "cell_type": "markdown",
   "metadata": {},
   "source": [
    "### Plotting function\n",
    "We define plotting function to investigate training of our model"
   ]
  },
  {
   "cell_type": "code",
   "execution_count": 7,
   "metadata": {},
   "outputs": [],
   "source": [
    "def plot_conv(train_loss, val_loss, train_acc, val_acc):                     \n",
    "    fig, axs = plt.subplots(1,2, figsize=(15,5))\n",
    "    epochs = range(1, len(train_acc) + 1)\n",
    "    axs[0].plot(epochs, val_loss, 'b', label='Validation loss')\n",
    "    axs[0].plot(epochs, train_loss, c='orange', label='Training loss')\n",
    "    axs[0].set_title('Training and validation loss')\n",
    "    axs[0].set_xlabel('Epochs')\n",
    "    axs[0].set_ylabel('Loss')\n",
    "    #axs[0].set_xscale('log')\n",
    "    axs[0].legend()\n",
    "    \n",
    "    axs[1].plot(epochs, val_acc, 'b', label='Validation accuracy')\n",
    "    axs[1].plot(epochs, train_acc, c='orange', label='Training accuracy')\n",
    "    axs[1].set_title('Training and validation accuracy')\n",
    "    axs[1].set_xlabel('Epochs')\n",
    "    axs[1].set_ylabel('Accuracy')\n",
    "    #axs[1].set_xscale('log')\n",
    "    axs[1].legend()\n",
    "    plt.tight_layout()\n",
    "\n",
    "    print(\"Final statistics\")\n",
    "    print(\"Training\")\n",
    "    print(\"Loss: {:.3f}  Accuracy: {:.3f}\".format(train_loss[-1], train_acc[-1]))\n",
    "    print(\"Validation\")\n",
    "    print(\"Loss: {:.3f}  Accuracy: {:.3f}\".format(val_loss[-1], val_acc[-1]))"
   ]
  },
  {
   "cell_type": "markdown",
   "metadata": {},
   "source": [
    "### Training\n",
    "\n",
    "We train our model for a specific number of epochs."
   ]
  },
  {
   "cell_type": "code",
   "execution_count": 8,
   "metadata": {
    "scrolled": false
   },
   "outputs": [
    {
     "name": "stdout",
     "output_type": "stream",
     "text": [
      "Total training time: 2236.28\n",
      "Average training time: 22.36\n",
      "Final statistics\n",
      "Training\n",
      "Loss: 0.113  Accuracy: 0.993\n",
      "Validation\n",
      "Loss: 0.128  Accuracy: 0.988\n"
     ]
    },
    {
     "data": {
      "image/png": "[encoded data removed]",
      "text/plain": [
       "<Figure size 1080x360 with 2 Axes>"
      ]
     },
     "metadata": {
      "needs_background": "light"
     },
     "output_type": "display_data"
    }
   ],
   "source": [
    "num_epochs = 100\n",
    "tot_time = 0.\n",
    "train_acc_l = []\n",
    "val_acc_l = []\n",
    "train_loss_l = []\n",
    "val_loss_l = []\n",
    "\n",
    "for e in range(num_epochs):\n",
    "    start_time = time.time()\n",
    "    \n",
    "    for step, (image, label) in enumerate(train_ds):\n",
    "        loss = train_step(model, image, label)\n",
    "\n",
    "    clear_output(wait=True)\n",
    "    print('Epoch {:d}'.format(e+1))\n",
    "    # training loss and accuracy\n",
    "    train_loss = float(train_loss_avg.result())\n",
    "    train_loss_l.append(train_loss)\n",
    "    train_loss_avg.reset_states()\n",
    "    train_acc = float(train_acc_metric.result())\n",
    "    train_acc_l.append(train_acc)\n",
    "    train_acc_metric.reset_states()\n",
    "    print(\"Training:\\t Loss {:.4f}\\t Accuracy {:.4f}\".format(train_loss, train_acc))\n",
    "\n",
    "    # validation loop\n",
    "    for x_batch_val, y_batch_val in valid_ds:\n",
    "        val_pred = model(x_batch_val)\n",
    "        \n",
    "        # update val metric and loss\n",
    "        val_acc_metric.update_state(y_batch_val, val_pred) \n",
    "        val_loss_avg.update_state(loss)\n",
    "    \n",
    "    # validation loss and accuracy\n",
    "    val_loss = float(val_loss_avg.result())\n",
    "    val_loss_l.append(val_loss)\n",
    "    train_loss_avg.reset_states()\n",
    "    val_acc = float(val_acc_metric.result())\n",
    "    val_acc_l.append(val_acc)\n",
    "    val_acc_metric.reset_states()\n",
    "    print(\"Validation:\\t Loss {:.4f}\\t Accuracy {:.4f}\".format(val_loss, val_acc))\n",
    "    \n",
    "    # time measurement\n",
    "    epoch_time = time.time() - start_time\n",
    "    print(\"Time taken:  {:.2f}\".format(epoch_time))\n",
    "    tot_time += epoch_time\n",
    "\n",
    "clear_output(wait=True)\n",
    "print(\"Total training time: {:.2f}\".format(tot_time))\n",
    "print(\"Average training time: {:.2f}\".format(tot_time/num_epochs))\n",
    "\n",
    "plot_conv(train_loss_l, val_loss_l, train_acc_l, val_acc_l)"
   ]
  },
  {
   "cell_type": "markdown",
   "metadata": {},
   "source": [
    "### Test data performance\n",
    "Finally, we check loss and accuracy of our model for the test data."
   ]
  },
  {
   "cell_type": "code",
   "execution_count": 9,
   "metadata": {
    "scrolled": true
   },
   "outputs": [
    {
     "name": "stdout",
     "output_type": "stream",
     "text": [
      "Final statistics\n",
      "Test\n",
      "Loss: 0.144  Accuracy: 0.989\n"
     ]
    }
   ],
   "source": [
    "test_acc_metric = tf.keras.metrics.CategoricalAccuracy()\n",
    "test_loss_avg = tf.keras.metrics.Mean()\n",
    "test_acc_l = []\n",
    "test_loss_l = []\n",
    "\n",
    "# test loop\n",
    "for x_batch_val, y_batch_val in test_ds:\n",
    "    val_pred = model(x_batch_val)\n",
    "    test_acc_metric.update_state(y_batch_val, val_pred) \n",
    "    test_loss_avg.update_state(loss)\n",
    "\n",
    "print(\"Final statistics\")\n",
    "print(\"Test\")\n",
    "print(\"Loss: {:.3f}  Accuracy: {:.3f}\".format(float(test_loss_avg.result()), float(test_acc_metric.result())))"
   ]
  },
  {
   "cell_type": "markdown",
   "metadata": {},
   "source": [
    "Network accuracy is satisfactory given that no data set augmentation has been done."
   ]
  }
 ],
 "metadata": {
  "kernelspec": {
   "display_name": "Python 3",
   "language": "python",
   "name": "python3"
  },
  "language_info": {
   "codemirror_mode": {
    "name": "ipython",
    "version": 3
   },
   "file_extension": ".py",
   "mimetype": "text/x-python",
   "name": "python",
   "nbconvert_exporter": "python",
   "pygments_lexer": "ipython3",
   "version": "3.8.5"
  }
 },
 "nbformat": 4,
 "nbformat_minor": 4
}
