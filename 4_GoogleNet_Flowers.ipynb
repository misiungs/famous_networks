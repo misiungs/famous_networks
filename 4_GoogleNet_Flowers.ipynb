{
 "cells": [
  {
   "cell_type": "markdown",
   "metadata": {
    "id": "4kjoSl96OpP4"
   },
   "source": [
    "In this notebook GoogLeNet (Szegedy C., et. al. “Going Deeper with Convolutions”) is recreated but for the sake of disk space and computational time it is runned on Flowers data set. GoogLeNet consists of inception modules (several parallel convulation layers that are concatenated) and auxiliary outputs that are weighted and used for training to address the vanishing gradient problem. Architecture is build using high-level keras API, with inheritance of tf.keras.layers.Layer and tf.keras.Model. \n",
    "### Import libraries"
   ]
  },
  {
   "cell_type": "code",
   "execution_count": 1,
   "metadata": {
    "colab": {
     "base_uri": "https://localhost:8080/",
     "height": 35
    },
    "id": "HLPDyRDjOpQB",
    "outputId": "05054e75-ddd2-466c-c7a2-0256caa924d3"
   },
   "outputs": [
    {
     "data": {
      "application/vnd.google.colaboratory.intrinsic+json": {
       "type": "string"
      },
      "text/plain": [
       "'/device:GPU:0'"
      ]
     },
     "execution_count": 1,
     "metadata": {
      "tags": []
     },
     "output_type": "execute_result"
    }
   ],
   "source": [
    "import tensorflow as tf \n",
    "\n",
    "tf.test.gpu_device_name()"
   ]
  },
  {
   "cell_type": "code",
   "execution_count": 2,
   "metadata": {
    "id": "0xC0PHJpOpQD"
   },
   "outputs": [],
   "source": [
    "import time\n",
    "import numpy as np\n",
    "import matplotlib.pyplot as plt\n",
    "import tensorflow_datasets as tfds\n",
    "import tensorflow as tf"
   ]
  },
  {
   "cell_type": "markdown",
   "metadata": {
    "id": "YBhij1DlOpQD"
   },
   "source": [
    "### Load dataset\n",
    "Load the data set and define basic data set preprocessing and sampling options."
   ]
  },
  {
   "cell_type": "code",
   "execution_count": 3,
   "metadata": {
    "id": "bk2ifE6pOpQE"
   },
   "outputs": [],
   "source": [
    "dataset_name = 'tf_flowers'\n",
    "batch_size = 32\n",
    "\n",
    "@tf.function\n",
    "def transform_inp(image, label):\n",
    "  image = tf.image.resize_with_crop_or_pad(image, 227, 227)\n",
    "  #image = crop_center(image)\n",
    "  return tf.cast(image, tf.float32)/255., tf.one_hot(label, depth=5)\n",
    "\n",
    "train_ds = tfds.load(dataset_name, split='train[:-20%]', as_supervised=True)\n",
    "valid_ds = tfds.load(dataset_name, split='train[-20%:-10%]', as_supervised=True)\n",
    "test_ds = tfds.load(dataset_name, split='train[-10%:]', as_supervised=True)\n",
    "\n",
    "train_ds = train_ds.map(transform_inp).shuffle(1024).batch(batch_size)\n",
    "valid_ds = valid_ds.map(transform_inp).shuffle(1024).batch(batch_size)\n",
    "test_ds = test_ds.map(transform_inp).shuffle(1024).batch(batch_size)"
   ]
  },
  {
   "cell_type": "markdown",
   "metadata": {
    "id": "wxP1jEiQOpQE"
   },
   "source": [
    "### Model\n",
    "We define our model following AlexNet architecture."
   ]
  },
  {
   "cell_type": "code",
   "execution_count": 4,
   "metadata": {
    "id": "c3NnsPeiOpQF"
   },
   "outputs": [],
   "source": [
    "#First two building blocks/layers\n",
    "#Inception Module\n",
    "class InceptionModule(tf.keras.layers.Layer):\n",
    "    def __init__(self, f_1x1, f_3x3_r, f_3x3,\n",
    "                f_5x5_r, f_5x5, f_pool):\n",
    "        super(InceptionModule, self).__init__(name='')\n",
    "        #first branch\n",
    "        self.conv_1x1 = tf.keras.layers.Conv2D(f_1x1, (1, 1), padding='same',\n",
    "                    activation='relu')\n",
    "        #second branch\n",
    "        self.conv_3x3_a = tf.keras.layers.Conv2D(f_3x3_r, (1, 1), padding='same',\n",
    "                    activation='relu')\n",
    "        self.conv_3x3_b = tf.keras.layers.Conv2D(f_3x3, (3, 3), padding='same',\n",
    "                    activation='relu')\n",
    "        #third branch\n",
    "        self.conv_5x5_a = tf.keras.layers.Conv2D(f_5x5_r, (1, 1), padding='same', \n",
    "                    activation='relu')\n",
    "        self.conv_5x5_b = tf.keras.layers.Conv2D(f_5x5, (5, 5), padding='same', \n",
    "                    activation='relu')\n",
    "        #fourth branch\n",
    "        self.pool_proj_a = tf.keras.layers.MaxPool2D((3, 3), strides=(1, 1), padding='same')\n",
    "        self.pool_proj_b = tf.keras.layers.Conv2D(f_pool, (1, 1), padding='same',\n",
    "                    activation='relu')\n",
    "\n",
    "    def call(self, x):\n",
    "        #first branch\n",
    "        b1 = self.conv_1x1(x)\n",
    "        #second branch\n",
    "        b2 = self.conv_3x3_a(x)\n",
    "        b2 = self.conv_3x3_b(b2)\n",
    "        #third branch\n",
    "        b3 = self.conv_5x5_a(x)\n",
    "        b3 = self.conv_5x5_b(b3)\n",
    "        #fourth branch\n",
    "        b4 = self.pool_proj_a(x)\n",
    "        b4 = self.pool_proj_b(b4)\n",
    "        #output (branches joined)\n",
    "        output = tf.concat([b1, b2, b3, b4], axis=3)\n",
    "        return output\n",
    "\n",
    "#Inception Module\n",
    "class AuxiliaryOutput(tf.keras.layers.Layer):\n",
    "    def __init__(self, num_classes):\n",
    "        super(AuxiliaryOutput, self).__init__(name='')\n",
    "        self.pool = tf.keras.layers.AveragePooling2D([5, 5], strides = 3)\n",
    "        self.conv_1x1 = tf.keras.layers.Conv2D(128, [1, 1])\n",
    "        self.flat = tf.keras.layers.Flatten()\n",
    "        self.dense_1 = tf.keras.layers.Dense(1024, activation='relu')  \n",
    "        self.drop = tf.keras.layers.Dropout(0.5)\n",
    "        self.dense_2 = tf.keras.layers.Dense(num_classes, activation='softmax')\n",
    "\n",
    "    def call(self, x, training=False):\n",
    "        x = self.pool(x)\n",
    "        x = self.conv_1x1(x)\n",
    "        x = self.flat(x)\n",
    "        x = self.dense_1(x)\n",
    "        x = self.drop(x)\n",
    "        x = self.dense_2(x)\n",
    "        out = tf.nn.softmax(x)  \n",
    "        return out\n",
    "\n",
    "\n",
    "class GoogLeNet(tf.keras.Model):\n",
    "  def __init__(self, num_classes):\n",
    "    super(GoogLeNet, self).__init__(name='')\n",
    "    #initial data convulation/pooling  \n",
    "    self.conv_7x7_1 = tf.keras.layers.Conv2D(64, (7,7), strides=(2,2), padding='same', activation='relu')\n",
    "    self.pool_1 = tf.keras.layers.MaxPooling2D(pool_size=(3,3), strides=(2,2), padding='same')    \n",
    "    self.conv2_3x3_red = tf.keras.layers.Conv2D(64, (1,1), padding='same', activation='relu')\n",
    "    self.conv2_3x3 = tf.keras.layers.Conv2D(192, (3,3), padding='same', activation='relu')\n",
    "    self.pool_2 = tf.keras.layers.MaxPooling2D(pool_size=(3,3), strides=(2,2), padding='same')\n",
    "    #inceptions        \n",
    "    self.inception_1 = InceptionModule(64, 96, 128, 16, 32, 32)\n",
    "    self.inception_2 = InceptionModule(128, 128, 192, 32, 96, 64)\n",
    "    self.inception_3 = InceptionModule(192, 96, 208, 16, 48, 64)\n",
    "    self.out_1 = AuxiliaryOutput(num_classes)\n",
    "    self.inception_4 = InceptionModule(160, 112, 224, 24, 64, 64)\n",
    "    self.inception_5 = InceptionModule(128, 128, 256, 24, 64, 64)\n",
    "    self.inception_6 = InceptionModule(112, 144, 288, 32, 64, 64)                        \n",
    "    self.out_2 = AuxiliaryOutput(num_classes)\n",
    "    self.inception_7 = InceptionModule(256, 160, 320, 32, 128, 128)\n",
    "    self.inception_8 = InceptionModule(256, 160, 320, 32, 128, 128)\n",
    "    self.inception_9 = InceptionModule(384, 192, 384, 48, 128, 128)\n",
    "    #final data handling\n",
    "    self.pool_3 = tf.keras.layers.AveragePooling2D(pool_size=(7,7), strides=(1,1))\n",
    "    self.flat = tf.keras.layers.Flatten()\n",
    "    self.drop_1 = tf.keras.layers.Dropout(rate=0.4)\n",
    "    self.dens_1 = tf.keras.layers.Dense(num_classes, activation='softmax')\n",
    "\n",
    "  def call(self, x, training=False):\n",
    "    x = self.conv_7x7_1(x)\n",
    "    x = self.pool_1(x)\n",
    "    x = self.conv2_3x3_red(x)                      \n",
    "    x = self.conv2_3x3(x)\n",
    "    x = self.pool_2(x)\n",
    "    x = self.inception_1(x)\n",
    "    x = self.inception_2(x)\n",
    "    x = self.inception_3(x)\n",
    "    if training:\n",
    "        o1 = self.out_1(x)\n",
    "    x = self.inception_4(x)\n",
    "    x = self.inception_5(x)\n",
    "    x = self.inception_6(x)                                  \n",
    "    if training:\n",
    "        o2 = self.out_2(x)\n",
    "    x = self.inception_7(x)\n",
    "    x = self.inception_8(x)\n",
    "    x = self.inception_9(x)\n",
    "    x = self.pool_3(x)\n",
    "    x = self.flat(x)\n",
    "    x = self.drop_1(x)                                   \n",
    "    o3 = self.dens_1(x)                                  \n",
    "    if training:\n",
    "        o1 = tf.math.multiply(o1, 0.3)\n",
    "        o2 = tf.math.multiply(o2, 0.3)\n",
    "        o = tf.math.add(o1, o2)\n",
    "        o = tf.math.add(o, o3)   \n",
    "        return o\n",
    "    else:\n",
    "        return o3\n",
    "\n",
    "model = GoogLeNet(5)"
   ]
  },
  {
   "cell_type": "markdown",
   "metadata": {
    "id": "Y_FbrafEOpQG"
   },
   "source": [
    "Let's check the model summary."
   ]
  },
  {
   "cell_type": "markdown",
   "metadata": {
    "id": "_oAob5v_OpQI"
   },
   "source": [
    "### Defining the loss function and compiling the model\n",
    "\n",
    "Here we define our optimizer, loss function, and necessary metrics."
   ]
  },
  {
   "cell_type": "code",
   "execution_count": 5,
   "metadata": {
    "id": "VfSVlAx-OpQI"
   },
   "outputs": [],
   "source": [
    "model.compile(loss='categorical_crossentropy',\n",
    "              optimizer=tf.keras.optimizers.SGD(lr=0.01, momentum=0.9),\n",
    "              metrics=['accuracy'])"
   ]
  },
  {
   "cell_type": "markdown",
   "metadata": {
    "id": "cDsDQKaSOpQI"
   },
   "source": [
    "### Plotting function\n",
    "We define plotting function to investigate training of our model"
   ]
  },
  {
   "cell_type": "code",
   "execution_count": 6,
   "metadata": {
    "id": "N95p3dPhOpQJ"
   },
   "outputs": [],
   "source": [
    "def plot_conv(hist):                     \n",
    "    history_dict = hist.history\n",
    "    train_acc = history_dict['accuracy']\n",
    "    val_acc = history_dict['val_accuracy']\n",
    "    train_loss = history_dict['loss']\n",
    "    val_loss = history_dict['val_loss']\n",
    "    \n",
    "    fig, axs = plt.subplots(1,2, figsize=(15,5))\n",
    "    epochs = range(1, len(train_acc) + 1)\n",
    "    axs[0].plot(epochs, val_loss, 'b', label='Validation loss')\n",
    "    axs[0].plot(epochs, train_loss, c='orange', label='Training loss')\n",
    "    axs[0].set_title('Training and validation loss')\n",
    "    axs[0].set_xlabel('Epochs')\n",
    "    axs[0].set_ylabel('Loss')\n",
    "    #axs[0].set_xscale('log')\n",
    "    axs[0].legend()\n",
    "    \n",
    "    axs[1].plot(epochs, val_acc, 'b', label='Validation accuracy')\n",
    "    axs[1].plot(epochs, train_acc, c='orange', label='Training accuracy')\n",
    "    axs[1].set_title('Training and validation accuracy')\n",
    "    axs[1].set_xlabel('Epochs')\n",
    "    axs[1].set_ylabel('Accuracy')\n",
    "    #axs[1].set_xscale('log')\n",
    "    axs[1].legend()\n",
    "    plt.tight_layout()\n",
    "\n",
    "    print(\"Final statistics\")\n",
    "    print(\"Training\")\n",
    "    print(\"Loss: {:.3f}  Accuracy: {:.3f}\".format(train_loss[-1], train_acc[-1]))\n",
    "    print(\"Validation\")\n",
    "    print(\"Loss: {:.3f}  Accuracy: {:.3f}\".format(val_loss[-1], val_acc[-1]))"
   ]
  },
  {
   "cell_type": "markdown",
   "metadata": {
    "id": "zkkrZOgROpQJ"
   },
   "source": [
    "### Training\n",
    "\n",
    "We train our model for 10 epochs to see how it performs."
   ]
  },
  {
   "cell_type": "code",
   "execution_count": 7,
   "metadata": {
    "colab": {
     "base_uri": "https://localhost:8080/",
     "height": 1000
    },
    "id": "VpgFVeTWOpQJ",
    "outputId": "632c3bdf-0fcd-4e0f-a622-c16dec2c22ff",
    "scrolled": false
   },
   "outputs": [
    {
     "name": "stdout",
     "output_type": "stream",
     "text": [
      "Epoch 1/20\n",
      "92/92 [==============================] - 62s 581ms/step - loss: 1.6034 - accuracy: 0.2541 - val_loss: 1.6258 - val_accuracy: 0.1608\n",
      "Epoch 2/20\n",
      "92/92 [==============================] - 49s 524ms/step - loss: 1.6008 - accuracy: 0.2353 - val_loss: 1.5368 - val_accuracy: 0.3270\n",
      "Epoch 3/20\n",
      "92/92 [==============================] - 49s 528ms/step - loss: 1.5595 - accuracy: 0.2672 - val_loss: 1.7981 - val_accuracy: 0.3488\n",
      "Epoch 4/20\n",
      "92/92 [==============================] - 49s 529ms/step - loss: 1.4015 - accuracy: 0.3936 - val_loss: 1.6584 - val_accuracy: 0.5068\n",
      "Epoch 5/20\n",
      "92/92 [==============================] - 49s 529ms/step - loss: 1.3136 - accuracy: 0.4244 - val_loss: 1.2745 - val_accuracy: 0.5150\n",
      "Epoch 6/20\n",
      "92/92 [==============================] - 50s 531ms/step - loss: 1.2278 - accuracy: 0.4880 - val_loss: 1.6988 - val_accuracy: 0.5722\n",
      "Epoch 7/20\n",
      "92/92 [==============================] - 50s 531ms/step - loss: 1.1639 - accuracy: 0.5435 - val_loss: 1.5566 - val_accuracy: 0.5095\n",
      "Epoch 8/20\n",
      "92/92 [==============================] - 49s 529ms/step - loss: 1.1001 - accuracy: 0.5769 - val_loss: 1.6503 - val_accuracy: 0.5068\n",
      "Epoch 9/20\n",
      "92/92 [==============================] - 49s 531ms/step - loss: 1.1310 - accuracy: 0.5588 - val_loss: 1.7236 - val_accuracy: 0.5940\n",
      "Epoch 10/20\n",
      "92/92 [==============================] - 50s 531ms/step - loss: 1.0570 - accuracy: 0.6068 - val_loss: 1.1393 - val_accuracy: 0.6540\n",
      "Epoch 11/20\n",
      "92/92 [==============================] - 50s 531ms/step - loss: 1.0297 - accuracy: 0.6267 - val_loss: 1.5934 - val_accuracy: 0.5395\n",
      "Epoch 12/20\n",
      "92/92 [==============================] - 49s 530ms/step - loss: 1.0278 - accuracy: 0.6264 - val_loss: 1.3811 - val_accuracy: 0.5995\n",
      "Epoch 13/20\n",
      "92/92 [==============================] - 49s 530ms/step - loss: 1.0168 - accuracy: 0.6400 - val_loss: 1.6070 - val_accuracy: 0.5831\n",
      "Epoch 14/20\n",
      "92/92 [==============================] - 49s 530ms/step - loss: 0.9567 - accuracy: 0.6595 - val_loss: 1.1477 - val_accuracy: 0.6649\n",
      "Epoch 15/20\n",
      "92/92 [==============================] - 49s 529ms/step - loss: 0.9511 - accuracy: 0.6607 - val_loss: 1.3355 - val_accuracy: 0.6540\n",
      "Epoch 16/20\n",
      "92/92 [==============================] - 49s 529ms/step - loss: 0.9667 - accuracy: 0.6643 - val_loss: 1.1390 - val_accuracy: 0.6485\n",
      "Epoch 17/20\n",
      "92/92 [==============================] - 49s 530ms/step - loss: 0.9324 - accuracy: 0.6776 - val_loss: 1.7519 - val_accuracy: 0.5668\n",
      "Epoch 18/20\n",
      "92/92 [==============================] - 50s 532ms/step - loss: 0.9406 - accuracy: 0.6698 - val_loss: 1.2695 - val_accuracy: 0.6730\n",
      "Epoch 19/20\n",
      "92/92 [==============================] - 49s 531ms/step - loss: 0.8976 - accuracy: 0.6871 - val_loss: 2.7045 - val_accuracy: 0.6322\n",
      "Epoch 20/20\n",
      "92/92 [==============================] - 49s 529ms/step - loss: 0.9319 - accuracy: 0.6828 - val_loss: 1.1801 - val_accuracy: 0.6730\n",
      "Final statistics\n",
      "Training\n",
      "Loss: 0.929  Accuracy: 0.677\n",
      "Validation\n",
      "Loss: 1.180  Accuracy: 0.673\n"
     ]
    },
    {
     "data": {
      "image/png": "[encoded data removed]",
      "text/plain": [
       "<Figure size 1080x360 with 2 Axes>"
      ]
     },
     "metadata": {
      "needs_background": "light",
      "tags": []
     },
     "output_type": "display_data"
    }
   ],
   "source": [
    "base_hist = model.fit(\n",
    "    train_ds,\n",
    "    epochs=20,\n",
    "    validation_data=valid_ds, \n",
    "    verbose = 1\n",
    ")\n",
    "\n",
    "plot_conv(base_hist)"
   ]
  },
  {
   "cell_type": "markdown",
   "metadata": {
    "id": "xl82NDNkOpQK"
   },
   "source": [
    "The implemented architecture works correctly. In 20 epochs over 67% of accuracy was achived and there is still some room for improvements. "
   ]
  }
 ],
 "metadata": {
  "accelerator": "GPU",
  "colab": {
   "collapsed_sections": [],
   "name": "GoogleNet_ImageNette.ipynb",
   "provenance": []
  },
  "kernelspec": {
   "display_name": "Python 3",
   "language": "python",
   "name": "python3"
  },
  "language_info": {
   "codemirror_mode": {
    "name": "ipython",
    "version": 3
   },
   "file_extension": ".py",
   "mimetype": "text/x-python",
   "name": "python",
   "nbconvert_exporter": "python",
   "pygments_lexer": "ipython3",
   "version": "3.8.5"
  }
 },
 "nbformat": 4,
 "nbformat_minor": 1
}
